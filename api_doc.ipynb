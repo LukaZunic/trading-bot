{
 "metadata": {
  "language_info": {
   "codemirror_mode": {
    "name": "ipython",
    "version": 3
   },
   "file_extension": ".py",
   "mimetype": "text/x-python",
   "name": "python",
   "nbconvert_exporter": "python",
   "pygments_lexer": "ipython3",
   "version": "3.8.5"
  },
  "orig_nbformat": 2,
  "kernelspec": {
   "name": "python385jvsc74a57bd0b59ad02010cfe5bd78565877238182aabe5fd319d850f4a8837991c38179f68a",
   "display_name": "Python 3.8.5 64-bit (conda)"
  }
 },
 "nbformat": 4,
 "nbformat_minor": 2,
 "cells": [
  {
   "cell_type": "code",
   "execution_count": 24,
   "metadata": {},
   "outputs": [],
   "source": [
    "import requests\n",
    "from datetime import datetime\n",
    "import functions as func"
   ]
  },
  {
   "source": [
    "# BUYING ORDER"
   ],
   "cell_type": "markdown",
   "metadata": {}
  },
  {
   "cell_type": "code",
   "execution_count": null,
   "metadata": {},
   "outputs": [],
   "source": [
    "time = datetime.now()\n",
    "r = requests.post('http://localhost:3014/api/order', json={\n",
    "    \"timestamp\": str(time),\n",
    "    \"type\":\"BUY\",\n",
    "    \"name\": name,\n",
    "    \"quantity\": str(float(get_wallet_balance())/curr_close_price),\n",
    "    \"price\":float(curr_close_price)\n",
    "})\n",
    "rebalance(curr_close_price, str(float(get_wallet_balance())/curr_close_price))"
   ]
  },
  {
   "source": [
    "# SELLING ORDER"
   ],
   "cell_type": "markdown",
   "metadata": {}
  },
  {
   "cell_type": "code",
   "execution_count": null,
   "metadata": {},
   "outputs": [],
   "source": [
    "time = datetime.now()\n",
    "quantity = get_wallet_quantity()\n",
    "r = requests.post('http://localhost:3014/api/order', json={\n",
    "        \"timestamp\": str(time),\n",
    "        \"type\":\"SELL\",\n",
    "        \"name\": name,\n",
    "        \"quantity\": str(quantity),\n",
    "        \"price\": float(curr_close_price)\n",
    "})\n",
    "selling_rebalance(str(float(quantity)*float(curr_close_price)))"
   ]
  },
  {
   "source": [
    "# CREATE WALLET"
   ],
   "cell_type": "markdown",
   "metadata": {}
  },
  {
   "cell_type": "code",
   "execution_count": null,
   "metadata": {},
   "outputs": [],
   "source": [
    " requests.post('http://localhost:3014/api/createWallet', json={\"name\": name,\"balance\":balance})"
   ]
  },
  {
   "source": [
    "# GET WALLET INFO"
   ],
   "cell_type": "markdown",
   "metadata": {}
  },
  {
   "cell_type": "code",
   "execution_count": null,
   "metadata": {},
   "outputs": [],
   "source": [
    "r = requests.post('http://localhost:3014/api/getWallet', json={})\n",
    "# accessing needed data => r.json()['data'][0]['quantity']"
   ]
  },
  {
   "source": [
    "# WALLET REBALANCE AFTER BUY OR SELL"
   ],
   "cell_type": "markdown",
   "metadata": {}
  },
  {
   "cell_type": "code",
   "execution_count": null,
   "metadata": {},
   "outputs": [],
   "source": [
    "requests.post('http://localhost:3014/api/rebalance', json={\"rebalance\": rebalance, \"quantity\":\"0\"})"
   ]
  }
 ]
}